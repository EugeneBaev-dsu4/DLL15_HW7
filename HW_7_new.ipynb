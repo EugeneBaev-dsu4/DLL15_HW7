{
 "cells": [
  {
   "cell_type": "markdown",
   "id": "42f90182",
   "metadata": {
    "id": "42f90182"
   },
   "source": [
    "### Домашнее задание 7"
   ]
  },
  {
   "cell_type": "markdown",
   "id": "76aab4ad",
   "metadata": {
    "id": "76aab4ad"
   },
   "source": [
    "Возьмите англо-русскую пару фраз (https://www.manythings.org/anki/)\n",
    "\n",
    "Обучите на них seq2seq по аналогии с занятием. Оцените полученное качество\n",
    "\n",
    "Попробуйте добавить +1 рекуррентный в encoder и decoder\n",
    "\n",
    "Попробуйте заменить GRU ячейки на lstm-ячейки\n",
    "\n",
    "Оцените качество во всех случаях"
   ]
  },
  {
   "cell_type": "code",
   "execution_count": 3,
   "id": "149c5838",
   "metadata": {
    "id": "149c5838"
   },
   "outputs": [],
   "source": [
    "from io import open\n",
    "import unicodedata\n",
    "import string\n",
    "import re\n",
    "import random\n",
    "\n",
    "import torch\n",
    "import torch.nn as nn\n",
    "from torch import optim\n",
    "import torch.nn.functional as F\n",
    "%matplotlib inline\n",
    "device = torch.device(\"cuda\" if torch.cuda.is_available() else \"cpu\")"
   ]
  },
  {
   "cell_type": "code",
   "execution_count": 8,
   "id": "809be028",
   "metadata": {
    "id": "809be028"
   },
   "outputs": [],
   "source": [
    "with open('eng-rus.txt', encoding='utf-8') as f:\n",
    "    my_lines = f.readlines()"
   ]
  },
  {
   "cell_type": "code",
   "execution_count": 10,
   "id": "7f86d2ff",
   "metadata": {
    "id": "7f86d2ff"
   },
   "outputs": [],
   "source": [
    "#my_lines"
   ]
  },
  {
   "cell_type": "code",
   "execution_count": 3,
   "id": "0323a177",
   "metadata": {
    "id": "0323a177"
   },
   "outputs": [],
   "source": [
    "SOS_token = 0\n",
    "EOS_token = 1\n",
    "\n",
    "\n",
    "class Lang:\n",
    "    def __init__(self, name):\n",
    "        self.name = name\n",
    "        self.word2index = {}\n",
    "        self.word2count = {}\n",
    "        self.index2word = {0: \"SOS\", 1: \"EOS\"}\n",
    "        self.n_words = 2  # Count SOS and EOS\n",
    "\n",
    "    def addSentence(self, sentence):\n",
    "        for word in sentence.split(' '):\n",
    "            self.addWord(word)\n",
    "\n",
    "    def addWord(self, word):\n",
    "        if word not in self.word2index:\n",
    "            self.word2index[word] = self.n_words\n",
    "            self.word2count[word] = 1\n",
    "            self.index2word[self.n_words] = word\n",
    "            self.n_words += 1\n",
    "        else:\n",
    "            self.word2count[word] += 1"
   ]
  },
  {
   "cell_type": "code",
   "execution_count": 4,
   "id": "9369c426",
   "metadata": {
    "id": "9369c426"
   },
   "outputs": [],
   "source": [
    "# Turn a Unicode string to plain ASCII\n",
    "def unicodeToAscii(s):\n",
    "    return ''.join(\n",
    "        c for c in unicodedata.normalize('NFD', s)\n",
    "        if unicodedata.category(c) != 'Mn'\n",
    "    )\n",
    "\n",
    "# Lowercase, trim, and remove non-letter characters\n",
    "\n",
    "\n",
    "def normalizeString(s):\n",
    "    s = unicodeToAscii(s.lower().strip())\n",
    "    s = re.sub(r\"([.!?])\", r\" \\1\", s)\n",
    "    s = re.sub(r\"[^a-zA-Zа-яА-ЯёЁ.!?]+\", r\" \", s)\n",
    "    return s"
   ]
  },
  {
   "cell_type": "code",
   "execution_count": 5,
   "id": "a816a463",
   "metadata": {
    "id": "a816a463"
   },
   "outputs": [],
   "source": [
    "def readLangs(lang1, lang2, reverse=False):\n",
    "    print(\"Reading lines...\")\n",
    "\n",
    "    # Read the file and split into lines\n",
    "    lines = open('%s-%s.txt' % (lang1, lang2), encoding='utf-8').\\\n",
    "        read().strip().split('\\n')\n",
    "\n",
    "    # Split every line into pairs and normalize\n",
    "    pairs = [[normalizeString(s) for s in l.split('\\t')] for l in lines]\n",
    "\n",
    "    for p in pairs:\n",
    "        del p[2]\n",
    "    \n",
    "    # Reverse pairs, make Lang instances\n",
    "    if reverse:\n",
    "        pairs = [list(reversed(p)) for p in pairs]\n",
    "        input_lang = Lang(lang2)\n",
    "        output_lang = Lang(lang1)\n",
    "    else:\n",
    "        input_lang = Lang(lang1)\n",
    "        output_lang = Lang(lang2)\n",
    "\n",
    "    return input_lang, output_lang, pairs"
   ]
  },
  {
   "cell_type": "code",
   "execution_count": 6,
   "id": "e3a71dc4",
   "metadata": {
    "id": "e3a71dc4"
   },
   "outputs": [],
   "source": [
    "MAX_LENGTH = 10\n",
    "\n",
    "eng_prefixes = (\n",
    "    \"i am \", \"i m \",\n",
    "    \"he is\", \"he s \",\n",
    "    \"she is\", \"she s\",\n",
    "    \"you are\", \"you re \",\n",
    "    \"we are\", \"we re \",\n",
    "    \"they are\", \"they re \"\n",
    ")\n",
    "\n",
    "\n",
    "def filterPair(p):\n",
    "    return len(p[0].split(' ')) < MAX_LENGTH and \\\n",
    "        len(p[1].split(' ')) < MAX_LENGTH and \\\n",
    "        p[1].startswith(eng_prefixes)\n",
    "\n",
    "\n",
    "def filterPairs(pairs):\n",
    "    return [pair for pair in pairs if filterPair(pair)]"
   ]
  },
  {
   "cell_type": "code",
   "execution_count": 14,
   "id": "43116241",
   "metadata": {
    "colab": {
     "base_uri": "https://localhost:8080/"
    },
    "id": "43116241",
    "outputId": "ed6a3ef8-5c03-4118-da30-cf3927285657"
   },
   "outputs": [
    {
     "name": "stdout",
     "output_type": "stream",
     "text": [
      "Reading lines...\n",
      "Read 444587 sentence pairs\n",
      "Trimmed to 25903 sentence pairs\n",
      "Counting words...\n",
      "Counted words:\n",
      "rus 9706\n",
      "eng 4150\n",
      "['я занят подготовкои к следующему экзамену .', 'i m busy preparing for the next exam .']\n"
     ]
    }
   ],
   "source": [
    "def prepareData(lang1, lang2, reverse=False):\n",
    "    input_lang, output_lang, pairs = readLangs(lang1, lang2, reverse)\n",
    "    print(\"Read %s sentence pairs\" % len(pairs))\n",
    "    pairs = filterPairs(pairs)\n",
    "    print(\"Trimmed to %s sentence pairs\" % len(pairs))\n",
    "    print(\"Counting words...\")\n",
    "    for pair in pairs:\n",
    "        input_lang.addSentence(pair[0])\n",
    "        output_lang.addSentence(pair[1])\n",
    "    print(\"Counted words:\")\n",
    "    print(input_lang.name, input_lang.n_words)\n",
    "    print(output_lang.name, output_lang.n_words)\n",
    "    return input_lang, output_lang, pairs\n",
    "\n",
    "\n",
    "input_lang, output_lang, pairs = prepareData('eng', 'rus', True)\n",
    "print(random.choice(pairs))"
   ]
  },
  {
   "cell_type": "code",
   "execution_count": 15,
   "id": "566812ad",
   "metadata": {
    "id": "566812ad"
   },
   "outputs": [],
   "source": [
    "def indexesFromSentence(lang, sentence):\n",
    "    return [lang.word2index[word] for word in sentence.split(' ')]\n",
    "\n",
    "\n",
    "def tensorFromSentence(lang, sentence):\n",
    "    indexes = indexesFromSentence(lang, sentence)\n",
    "    indexes.append(EOS_token)\n",
    "    return torch.tensor(indexes, dtype=torch.long, device=device).view(-1, 1)\n",
    "\n",
    "\n",
    "def tensorsFromPair(pair):\n",
    "    input_tensor = tensorFromSentence(input_lang, pair[0])\n",
    "    target_tensor = tensorFromSentence(output_lang, pair[1])\n",
    "    return (input_tensor, target_tensor)"
   ]
  },
  {
   "cell_type": "code",
   "execution_count": 16,
   "id": "24eacc1b",
   "metadata": {
    "id": "24eacc1b"
   },
   "outputs": [],
   "source": [
    "teacher_forcing_ratio = 0.5\n",
    "\n",
    "\n",
    "def train(input_tensor, target_tensor, encoder, decoder, encoder_optimizer, decoder_optimizer, criterion, max_length=MAX_LENGTH):\n",
    "    encoder_hidden = encoder.initHidden()\n",
    "\n",
    "    encoder_optimizer.zero_grad()\n",
    "    decoder_optimizer.zero_grad()\n",
    "\n",
    "    input_length = input_tensor.size(0)\n",
    "    target_length = target_tensor.size(0)\n",
    "\n",
    "    encoder_outputs = torch.zeros(max_length, encoder.hidden_size, device=device)\n",
    "\n",
    "    loss = 0\n",
    "\n",
    "    for ei in range(input_length):\n",
    "        encoder_output, encoder_hidden = encoder(\n",
    "            input_tensor[ei], encoder_hidden)\n",
    "        encoder_outputs[ei] = encoder_output[0, 0]\n",
    "\n",
    "    decoder_input = torch.tensor([[SOS_token]], device=device)\n",
    "\n",
    "    decoder_hidden = encoder_hidden\n",
    "\n",
    "    use_teacher_forcing = True if random.random() < teacher_forcing_ratio else False\n",
    "\n",
    "    if use_teacher_forcing:\n",
    "        # Teacher forcing: Feed the target as the next input\n",
    "        for di in range(target_length):\n",
    "            decoder_output, decoder_hidden = decoder(\n",
    "                decoder_input, decoder_hidden)\n",
    "            loss += criterion(decoder_output, target_tensor[di])\n",
    "            decoder_input = target_tensor[di]  # Teacher forcing\n",
    "\n",
    "    else:\n",
    "        # Without teacher forcing: use its own predictions as the next input\n",
    "        for di in range(target_length):\n",
    "            decoder_output, decoder_hidden = decoder(\n",
    "                decoder_input, decoder_hidden)\n",
    "            topv, topi = decoder_output.topk(1)\n",
    "            decoder_input = topi.squeeze().detach()  # detach from history as input\n",
    "\n",
    "            loss += criterion(decoder_output, target_tensor[di])\n",
    "            if decoder_input.item() == EOS_token:\n",
    "                break\n",
    "\n",
    "    loss.backward()\n",
    "\n",
    "    encoder_optimizer.step()\n",
    "    decoder_optimizer.step()\n",
    "\n",
    "    return loss.item() / target_length"
   ]
  },
  {
   "cell_type": "code",
   "execution_count": 17,
   "id": "f953c2ad",
   "metadata": {
    "id": "f953c2ad"
   },
   "outputs": [],
   "source": [
    "import time\n",
    "import math\n",
    "\n",
    "\n",
    "def asMinutes(s):\n",
    "    m = math.floor(s / 60)\n",
    "    s -= m * 60\n",
    "    return '%dm %ds' % (m, s)\n",
    "\n",
    "\n",
    "def timeSince(since, percent):\n",
    "    now = time.time()\n",
    "    s = now - since\n",
    "    es = s / (percent)\n",
    "    rs = es - s\n",
    "    return '%s (- %s)' % (asMinutes(s), asMinutes(rs))\n",
    "    \n",
    "def trainIters(encoder, decoder, n_iters, print_every=1000, plot_every=100, learning_rate=0.01):\n",
    "    start = time.time()\n",
    "    plot_losses = []\n",
    "    print_loss_total = 0  # Reset every print_every\n",
    "    plot_loss_total = 0  # Reset every plot_every\n",
    "\n",
    "    encoder_optimizer = optim.SGD(encoder.parameters(), lr=learning_rate)\n",
    "    decoder_optimizer = optim.SGD(decoder.parameters(), lr=learning_rate)\n",
    "    training_pairs = [tensorsFromPair(random.choice(pairs))\n",
    "                      for i in range(n_iters)]\n",
    "    criterion = nn.NLLLoss()\n",
    "\n",
    "    for iter in range(1, n_iters + 1):\n",
    "        training_pair = training_pairs[iter - 1]\n",
    "        input_tensor = training_pair[0]\n",
    "        target_tensor = training_pair[1]\n",
    "\n",
    "        loss = train(input_tensor, target_tensor, encoder,\n",
    "                     decoder, encoder_optimizer, decoder_optimizer, criterion)\n",
    "        print_loss_total += loss\n",
    "        plot_loss_total += loss\n",
    "\n",
    "        if iter % print_every == 0:\n",
    "            print_loss_avg = print_loss_total / print_every\n",
    "            print_loss_total = 0\n",
    "            print('%s (%d %d%%) %.4f' % (timeSince(start, iter / n_iters),\n",
    "                                         iter, iter / n_iters * 100, print_loss_avg))\n",
    "\n",
    "        if iter % plot_every == 0:\n",
    "            plot_loss_avg = plot_loss_total / plot_every\n",
    "            plot_losses.append(plot_loss_avg)\n",
    "            plot_loss_total = 0\n",
    "\n",
    "    showPlot(plot_losses)"
   ]
  },
  {
   "cell_type": "code",
   "execution_count": 18,
   "id": "d11deddb",
   "metadata": {
    "id": "d11deddb"
   },
   "outputs": [],
   "source": [
    "import matplotlib.pyplot as plt\n",
    "plt.switch_backend('agg')\n",
    "import matplotlib.ticker as ticker\n",
    "import numpy as np\n",
    "\n",
    "\n",
    "def showPlot(points):\n",
    "    plt.figure()\n",
    "    fig, ax = plt.subplots()\n",
    "    # this locator puts ticks at regular intervals\n",
    "    loc = ticker.MultipleLocator(base=0.2)\n",
    "    ax.yaxis.set_major_locator(loc)\n",
    "    plt.plot(points)"
   ]
  },
  {
   "cell_type": "code",
   "execution_count": 19,
   "id": "b079ba7f",
   "metadata": {
    "id": "b079ba7f"
   },
   "outputs": [],
   "source": [
    "def evaluate(encoder, decoder, sentence, max_length=MAX_LENGTH):\n",
    "    with torch.no_grad():\n",
    "        input_tensor = tensorFromSentence(input_lang, sentence)\n",
    "        input_length = input_tensor.size()[0]\n",
    "        encoder_hidden = encoder.initHidden()\n",
    "\n",
    "        encoder_outputs = torch.zeros(max_length, encoder.hidden_size, device=device)\n",
    "\n",
    "        for ei in range(input_length):\n",
    "            encoder_output, encoder_hidden = encoder(input_tensor[ei],\n",
    "                                                     encoder_hidden)\n",
    "            encoder_outputs[ei] += encoder_output[0, 0]\n",
    "\n",
    "        decoder_input = torch.tensor([[SOS_token]], device=device)  # SOS\n",
    "\n",
    "        decoder_hidden = encoder_hidden\n",
    "\n",
    "        decoded_words = []\n",
    "\n",
    "        for di in range(max_length):\n",
    "            decoder_output, decoder_hidden = decoder(\n",
    "                decoder_input, decoder_hidden)\n",
    "            topv, topi = decoder_output.data.topk(1)\n",
    "            if topi.item() == EOS_token:\n",
    "                decoded_words.append('<EOS>')\n",
    "                break\n",
    "            else:\n",
    "                decoded_words.append(output_lang.index2word[topi.item()])\n",
    "\n",
    "            decoder_input = topi.squeeze().detach()\n",
    "\n",
    "        return decoded_words"
   ]
  },
  {
   "cell_type": "code",
   "execution_count": 20,
   "id": "f8ff6c16",
   "metadata": {
    "id": "f8ff6c16"
   },
   "outputs": [],
   "source": [
    "def evaluateRandomly(encoder, decoder, n=10):\n",
    "    for i in range(n):\n",
    "        pair = random.choice(pairs)\n",
    "        print('>', pair[0])\n",
    "        print('=', pair[1])\n",
    "        output_words = evaluate(encoder, decoder, pair[0])\n",
    "        output_sentence = ' '.join(output_words)\n",
    "        print('<', output_sentence)\n",
    "        print('')"
   ]
  },
  {
   "cell_type": "markdown",
   "id": "d451f1d8",
   "metadata": {
    "id": "d451f1d8"
   },
   "source": [
    "#### Обучите на них seq2seq по аналогии с занятием. Оцените полученное качество"
   ]
  },
  {
   "cell_type": "markdown",
   "id": "09431106",
   "metadata": {
    "id": "09431106"
   },
   "source": [
    "##### The Encoder"
   ]
  },
  {
   "cell_type": "code",
   "execution_count": 21,
   "id": "98f85911",
   "metadata": {
    "id": "98f85911"
   },
   "outputs": [],
   "source": [
    "class EncoderRNN(nn.Module):\n",
    "    def __init__(self, input_size, hidden_size):\n",
    "        super(EncoderRNN, self).__init__()\n",
    "        self.hidden_size = hidden_size\n",
    "\n",
    "        self.embedding = nn.Embedding(input_size, hidden_size)\n",
    "        self.gru = nn.GRU(hidden_size, hidden_size)\n",
    "\n",
    "    def forward(self, input, hidden):\n",
    "        embedded = self.embedding(input).view(1, 1, -1)\n",
    "        output = embedded\n",
    "        output, hidden = self.gru(output, hidden)\n",
    "        return output, hidden\n",
    "\n",
    "    def initHidden(self):\n",
    "        return torch.zeros(1, 1, self.hidden_size, device=device)"
   ]
  },
  {
   "cell_type": "markdown",
   "id": "669b1aba",
   "metadata": {
    "id": "669b1aba"
   },
   "source": [
    "##### The Decoder"
   ]
  },
  {
   "cell_type": "code",
   "execution_count": 22,
   "id": "3cb87ac2",
   "metadata": {
    "id": "3cb87ac2"
   },
   "outputs": [],
   "source": [
    "class DecoderRNN(nn.Module):\n",
    "    def __init__(self, hidden_size, output_size):\n",
    "        super(DecoderRNN, self).__init__()\n",
    "        self.hidden_size = hidden_size\n",
    "\n",
    "        self.embedding = nn.Embedding(output_size, hidden_size)\n",
    "        self.gru = nn.GRU(hidden_size, hidden_size)\n",
    "        self.out = nn.Linear(hidden_size, output_size)\n",
    "        self.softmax = nn.LogSoftmax(dim=1)\n",
    "\n",
    "    def forward(self, input, hidden):\n",
    "        output = self.embedding(input).view(1, 1, -1)\n",
    "        output = F.relu(output)\n",
    "        output, hidden = self.gru(output, hidden)\n",
    "        output = self.softmax(self.out(output[0]))\n",
    "        return output, hidden\n",
    "\n",
    "    def initHidden(self):\n",
    "        return torch.zeros(1, 1, self.hidden_size, device=device)"
   ]
  },
  {
   "cell_type": "code",
   "execution_count": 23,
   "id": "4580b452",
   "metadata": {
    "colab": {
     "base_uri": "https://localhost:8080/"
    },
    "id": "4580b452",
    "outputId": "05eb977e-4380-4c89-dd16-1e475989860e"
   },
   "outputs": [
    {
     "name": "stdout",
     "output_type": "stream",
     "text": [
      "0m 3s (- 1m 4s) (250 5%) 4.0591\n",
      "0m 5s (- 0m 49s) (500 10%) 3.5321\n",
      "0m 7s (- 0m 43s) (750 15%) 3.4920\n",
      "0m 9s (- 0m 38s) (1000 20%) 3.4322\n",
      "0m 11s (- 0m 35s) (1250 25%) 3.2817\n",
      "0m 13s (- 0m 32s) (1500 30%) 3.2136\n",
      "0m 15s (- 0m 29s) (1750 35%) 3.1301\n",
      "0m 18s (- 0m 27s) (2000 40%) 3.1665\n",
      "0m 20s (- 0m 24s) (2250 45%) 3.1217\n",
      "0m 22s (- 0m 22s) (2500 50%) 3.1019\n",
      "0m 24s (- 0m 19s) (2750 55%) 3.0399\n",
      "0m 26s (- 0m 17s) (3000 60%) 2.9474\n",
      "0m 28s (- 0m 15s) (3250 65%) 3.0474\n",
      "0m 30s (- 0m 13s) (3500 70%) 2.9607\n",
      "0m 32s (- 0m 10s) (3750 75%) 2.9005\n",
      "0m 35s (- 0m 8s) (4000 80%) 2.8845\n",
      "0m 37s (- 0m 6s) (4250 85%) 2.8323\n",
      "0m 40s (- 0m 4s) (4500 90%) 2.7986\n",
      "0m 42s (- 0m 2s) (4750 95%) 2.8663\n",
      "0m 44s (- 0m 0s) (5000 100%) 2.7934\n"
     ]
    }
   ],
   "source": [
    "hidden_size = 256\n",
    "encoder1 = EncoderRNN(input_lang.n_words, hidden_size).to(device)\n",
    "decoder1 = DecoderRNN(hidden_size, output_lang.n_words).to(device)\n",
    "\n",
    "trainIters(encoder1, decoder1, 5000, print_every=250)"
   ]
  },
  {
   "cell_type": "code",
   "execution_count": null,
   "id": "zmoB73iplw3F",
   "metadata": {
    "id": "zmoB73iplw3F"
   },
   "outputs": [],
   "source": []
  },
  {
   "cell_type": "code",
   "execution_count": 24,
   "id": "208055d1",
   "metadata": {
    "colab": {
     "base_uri": "https://localhost:8080/"
    },
    "id": "208055d1",
    "outputId": "6cf289ea-e5c5-4018-fe00-1fb43229244e"
   },
   "outputs": [
    {
     "name": "stdout",
     "output_type": "stream",
     "text": [
      "> я же не умер ?\n",
      "= i m not dead am i ?\n",
      "< i m not sure that you re not . <EOS>\n",
      "\n",
      "> мы не будем терять времени .\n",
      "= we re not going to waste time .\n",
      "< we re not going to <EOS>\n",
      "\n",
      "> я чувствую холод .\n",
      "= i m feeling cold .\n",
      "< i m a . . <EOS>\n",
      "\n",
      "> я фотограф любитель .\n",
      "= i m a shutterbug .\n",
      "< i m a . <EOS>\n",
      "\n",
      "> ты к этому не готова .\n",
      "= you aren t ready for this .\n",
      "< you re not going to you <EOS>\n",
      "\n",
      "> уверен что вы неправильно поняли сказанное .\n",
      "= i m sure you misunderstood what was said .\n",
      "< i m sure that you re the . . <EOS>\n",
      "\n",
      "> я живу одна .\n",
      "= i m living alone .\n",
      "< i m a . . <EOS>\n",
      "\n",
      "> я не пытаюсь ничего сказать .\n",
      "= i m not trying to say anything .\n",
      "< i m not going to tom . <EOS>\n",
      "\n",
      "> я красивая .\n",
      "= i m beautiful .\n",
      "< i m a . <EOS>\n",
      "\n",
      "> я смотрю на те цветы .\n",
      "= i m looking at those flowers .\n",
      "< i m going to to be . <EOS>\n",
      "\n"
     ]
    }
   ],
   "source": [
    "evaluateRandomly(encoder1, decoder1)"
   ]
  },
  {
   "cell_type": "markdown",
   "id": "8f23a5b1",
   "metadata": {
    "id": "8f23a5b1"
   },
   "source": [
    "#### Попробуйте добавить +1 рекуррентный в encoder и decoder"
   ]
  },
  {
   "cell_type": "markdown",
   "id": "aa683630",
   "metadata": {
    "id": "aa683630"
   },
   "source": [
    "##### The Encoder"
   ]
  },
  {
   "cell_type": "code",
   "execution_count": 25,
   "id": "d335b422",
   "metadata": {
    "id": "d335b422"
   },
   "outputs": [],
   "source": [
    "class EncoderRNN(nn.Module):\n",
    "    def __init__(self, input_size, hidden_size):\n",
    "        super(EncoderRNN, self).__init__()\n",
    "        self.hidden_size = hidden_size\n",
    "\n",
    "        self.embedding = nn.Embedding(input_size, hidden_size)\n",
    "        self.gru = nn.GRU(hidden_size, hidden_size, num_layers=2)\n",
    "\n",
    "    def forward(self, input, hidden):\n",
    "        embedded = self.embedding(input).view(1, 1, -1)\n",
    "        output = embedded\n",
    "        output, hidden = self.gru(output, hidden)\n",
    "        return output, hidden\n",
    "\n",
    "    def initHidden(self):\n",
    "        return torch.zeros(2, 1, self.hidden_size, device=device)"
   ]
  },
  {
   "cell_type": "markdown",
   "id": "cf2e0eff",
   "metadata": {
    "id": "cf2e0eff"
   },
   "source": [
    "##### The Decoder"
   ]
  },
  {
   "cell_type": "code",
   "execution_count": 26,
   "id": "85517c7f",
   "metadata": {
    "id": "85517c7f"
   },
   "outputs": [],
   "source": [
    "class DecoderRNN(nn.Module):\n",
    "    def __init__(self, hidden_size, output_size):\n",
    "        super(DecoderRNN, self).__init__()\n",
    "        self.hidden_size = hidden_size\n",
    "\n",
    "        self.embedding = nn.Embedding(output_size, hidden_size)\n",
    "        self.gru = nn.GRU(hidden_size, hidden_size, num_layers=2)\n",
    "        self.out = nn.Linear(hidden_size, output_size)\n",
    "        self.softmax = nn.LogSoftmax(dim=1)\n",
    "\n",
    "    def forward(self, input, hidden):\n",
    "        output = self.embedding(input).view(1, 1, -1)\n",
    "        output = F.relu(output)\n",
    "        output, hidden = self.gru(output, hidden)\n",
    "        output = self.softmax(self.out(output[0]))\n",
    "        return output, hidden\n",
    "\n",
    "    def initHidden(self):\n",
    "        return torch.zeros(2, 1, self.hidden_size, device=device)"
   ]
  },
  {
   "cell_type": "code",
   "execution_count": 27,
   "id": "cc8ec98b",
   "metadata": {
    "colab": {
     "base_uri": "https://localhost:8080/"
    },
    "id": "cc8ec98b",
    "outputId": "0dc61d31-9d13-4e09-9aa1-f807ec62a4f1"
   },
   "outputs": [
    {
     "name": "stdout",
     "output_type": "stream",
     "text": [
      "0m 2s (- 0m 49s) (250 5%) 4.2825\n",
      "0m 5s (- 0m 45s) (500 10%) 3.5881\n",
      "0m 7s (- 0m 42s) (750 15%) 3.3510\n",
      "0m 9s (- 0m 39s) (1000 20%) 3.2673\n",
      "0m 12s (- 0m 36s) (1250 25%) 3.3078\n",
      "0m 14s (- 0m 34s) (1500 30%) 3.2263\n",
      "0m 17s (- 0m 31s) (1750 35%) 3.1572\n",
      "0m 19s (- 0m 29s) (2000 40%) 3.0763\n",
      "0m 22s (- 0m 27s) (2250 45%) 3.1297\n",
      "0m 24s (- 0m 24s) (2500 50%) 2.9650\n",
      "0m 27s (- 0m 22s) (2750 55%) 3.0434\n",
      "0m 29s (- 0m 19s) (3000 60%) 3.0877\n",
      "0m 32s (- 0m 17s) (3250 65%) 2.9989\n",
      "0m 35s (- 0m 15s) (3500 70%) 2.8771\n",
      "0m 37s (- 0m 12s) (3750 75%) 2.9191\n",
      "0m 40s (- 0m 10s) (4000 80%) 2.9310\n",
      "0m 42s (- 0m 7s) (4250 85%) 2.9233\n",
      "0m 44s (- 0m 4s) (4500 90%) 2.8473\n",
      "0m 47s (- 0m 2s) (4750 95%) 2.8835\n",
      "0m 49s (- 0m 0s) (5000 100%) 2.7683\n"
     ]
    }
   ],
   "source": [
    "hidden_size = 256\n",
    "encoder1 = EncoderRNN(input_lang.n_words, hidden_size).to(device)\n",
    "decoder1 = DecoderRNN(hidden_size, output_lang.n_words).to(device)\n",
    "\n",
    "trainIters(encoder1, decoder1, 5000, print_every=250)"
   ]
  },
  {
   "cell_type": "code",
   "execution_count": 28,
   "id": "f8abfca0",
   "metadata": {
    "colab": {
     "base_uri": "https://localhost:8080/"
    },
    "id": "f8abfca0",
    "outputId": "be19c0aa-330f-405b-ea26-f401aace5439"
   },
   "outputs": [
    {
     "name": "stdout",
     "output_type": "stream",
     "text": [
      "> мы ждем подходящего момента .\n",
      "= we re waiting for the right moment .\n",
      "< we re going to . . <EOS>\n",
      "\n",
      "> по понедельникам я обычно дома .\n",
      "= i m usually at home on mondays .\n",
      "< i m going to a . . <EOS>\n",
      "\n",
      "> мы двигаемся в правильном направлении .\n",
      "= we re headed in the right direction .\n",
      "< we re going to to . . <EOS>\n",
      "\n",
      "> я рада что наконец с вами познакомилась .\n",
      "= i m glad to finally meet you .\n",
      "< i m sure to you to be . . <EOS>\n",
      "\n",
      "> он еи в отцы годится .\n",
      "= he is old enough to be her father .\n",
      "< he is the a to . . . <EOS>\n",
      "\n",
      "> я это полностью осознаю .\n",
      "= i m fully aware of that .\n",
      "< i m sure to be this . <EOS>\n",
      "\n",
      "> тебе послышалось .\n",
      "= you are hearing things .\n",
      "< you re very to . . <EOS>\n",
      "\n",
      "> вы богатыи человек .\n",
      "= you re a rich man .\n",
      "< you re very . . <EOS>\n",
      "\n",
      "> я уверена том будет в восторге .\n",
      "= i m sure tom will be thrilled .\n",
      "< i m sure to this to this . <EOS>\n",
      "\n",
      "> они плодятся как кролики .\n",
      "= they re breeding like rabbits .\n",
      "< we re going to to . . <EOS>\n",
      "\n"
     ]
    }
   ],
   "source": [
    "evaluateRandomly(encoder1, decoder1)"
   ]
  },
  {
   "cell_type": "markdown",
   "id": "2a65bc0f",
   "metadata": {
    "id": "2a65bc0f"
   },
   "source": [
    "#### Попробуйте заменить GRU ячейки на lstm-ячейки"
   ]
  },
  {
   "cell_type": "code",
   "execution_count": null,
   "id": "d6261354",
   "metadata": {
    "id": "d6261354"
   },
   "outputs": [],
   "source": [
    "import csv\n",
    "\n",
    "input_rus_txt = []\n",
    "output_eng_txt = []\n",
    "\n",
    "for pair in pairs:\n",
    "    input_rus_txt.append(pair[0])\n",
    "    output_eng_txt.append(pair[1])\n",
    "    \n",
    "with open('rus-eng/rus.txt', 'w') as f:\n",
    "    for item in input_rus_txt:\n",
    "        f.write(\"%s\\n\" % item)\n",
    "        \n",
    "with open('rus-eng/eng.txt', 'w') as f:\n",
    "    for item in output_eng_txt:\n",
    "        f.write(\"%s\\n\" % item)\n",
    "        \n",
    "import pandas as pd\n",
    "\n",
    "df = pd.DataFrame(pairs)\n",
    "df.to_csv(\"rus-eng/pairs_tsv.tsv\", sep=\"\\t\", index=False)"
   ]
  },
  {
   "cell_type": "code",
   "execution_count": 1,
   "id": "95795888",
   "metadata": {
    "id": "95795888"
   },
   "outputs": [],
   "source": [
    "# These are the standard torch imports\n",
    "import torch\n",
    "import torch.nn as nn\n",
    "import torch.nn.functional as F\n",
    "import torch.optim as optim \n",
    "from torchtext import data # Helper libraries\n",
    "import random\n",
    "from tqdm import tqdm"
   ]
  },
  {
   "cell_type": "code",
   "execution_count": 2,
   "id": "f279fbc7",
   "metadata": {
    "id": "f279fbc7"
   },
   "outputs": [],
   "source": [
    "#from torchtext.data import Field, BucketIterator\n",
    "import torchtext\n",
    "from torchtext.data.utils import get_tokenizer\n",
    "\n",
    "import spacy\n",
    "import numpy as np\n",
    "\n",
    "import random\n",
    "import math\n",
    "import time"
   ]
  },
  {
   "cell_type": "code",
   "execution_count": 4,
   "id": "c851c55a",
   "metadata": {
    "id": "c851c55a"
   },
   "outputs": [],
   "source": [
    "SEED = 1234\n",
    "\n",
    "random.seed(SEED)\n",
    "np.random.seed(SEED)\n",
    "torch.manual_seed(SEED)\n",
    "torch.cuda.manual_seed(SEED)\n",
    "torch.backends.cudnn.deterministic = True"
   ]
  },
  {
   "cell_type": "code",
   "execution_count": 5,
   "id": "667f920b",
   "metadata": {
    "id": "667f920b"
   },
   "outputs": [],
   "source": [
    "#!python -m spacy download en_core_web_sm\n",
    "#!python -m spacy download de_core_news_sm\n",
    "#!python -m spacy download ru_core_news_sm"
   ]
  },
  {
   "cell_type": "code",
   "execution_count": 6,
   "id": "2c6ee6cb",
   "metadata": {
    "id": "2c6ee6cb"
   },
   "outputs": [],
   "source": [
    "spacy_ru = spacy.load('ru_core_news_sm')\n",
    "spacy_en = spacy.load('en_core_web_sm')"
   ]
  },
  {
   "cell_type": "code",
   "execution_count": 10,
   "id": "b55422d0",
   "metadata": {
    "id": "b55422d0"
   },
   "outputs": [],
   "source": [
    "def tokenize_ru(text):\n",
    "    \"\"\"\n",
    "    Tokenizes Russian text from a string into a list of strings (tokens) and reverses it\n",
    "    \"\"\"\n",
    "    return [tok.text for tok in spacy_ru.tokenizer(text)][::-1]\n",
    "\n",
    "def tokenize_en(text):\n",
    "    \"\"\"\n",
    "    Tokenizes English text from a string into a list of strings (tokens)\n",
    "    \"\"\"\n",
    "    return [tok.text for tok in spacy_en.tokenizer(text)]"
   ]
  },
  {
   "cell_type": "code",
   "execution_count": 7,
   "id": "41mhSXD_qEwW",
   "metadata": {
    "id": "41mhSXD_qEwW"
   },
   "outputs": [],
   "source": [
    "from torchtext.legacy.data import Field, TabularDataset, BucketIterator, Iterator"
   ]
  },
  {
   "cell_type": "code",
   "execution_count": 9,
   "id": "7_o3IFyYpTfu",
   "metadata": {
    "id": "7_o3IFyYpTfu"
   },
   "outputs": [],
   "source": [
    "from torchtext.legacy.datasets import Multi30k\n",
    "#from torchtext.data import Field, BucketIterator"
   ]
  },
  {
   "cell_type": "code",
   "execution_count": 11,
   "id": "4f1ebfd1",
   "metadata": {
    "id": "4f1ebfd1"
   },
   "outputs": [],
   "source": [
    "SRC = Field(tokenize = tokenize_ru, \n",
    "            init_token = '<sos>', \n",
    "            eos_token = '<eos>', \n",
    "            lower = True)\n",
    "\n",
    "TRG = Field(tokenize = tokenize_en, \n",
    "            init_token = '<sos>', \n",
    "            eos_token = '<eos>', \n",
    "            lower = True)"
   ]
  },
  {
   "cell_type": "code",
   "execution_count": 13,
   "id": "aa6f1711",
   "metadata": {
    "id": "aa6f1711"
   },
   "outputs": [],
   "source": [
    "rus_pair_txt = 'rus.txt'\n",
    "en_pair_txt = 'eng.txt'"
   ]
  },
  {
   "cell_type": "code",
   "execution_count": 16,
   "id": "a61dacf4",
   "metadata": {
    "colab": {
     "base_uri": "https://localhost:8080/"
    },
    "id": "a61dacf4",
    "outputId": "2b5ed2f7-d445-47fd-c478-e8f2f8b56be0"
   },
   "outputs": [
    {
     "name": "stderr",
     "output_type": "stream",
     "text": [
      ".vector_cache/glove.6B.zip: 862MB [02:40, 5.36MB/s]                           \n",
      "100%|█████████▉| 399999/400000 [00:34<00:00, 11565.46it/s]\n"
     ]
    }
   ],
   "source": [
    "MAX_VOCAB_SIZE = 30_000\n",
    "MIN_COUNT = 3\n",
    "MAX_SEQUENCE_LENGTH = 15\n",
    "BATCH_SIZE = 128 # Create Field object\n",
    "\n",
    "# TEXT = data.Field(tokenize = 'spacy', lower=True, include_lengths = True, init_token = '<sos>', \n",
    "#             eos_token = '<eos>') # Specify Fields in our dataset\n",
    "\n",
    "fields = [('input_sequence', SRC), ('output_sequence', TRG)] \n",
    "\n",
    "# .tsv containing the statement/response pairs\n",
    "data_file = 'pairs_tsv.tsv' # Build the dataset\n",
    "\n",
    "dialogue_data = TabularDataset(\n",
    "    path=data_file, format='tsv',\n",
    "    fields=fields)\n",
    "    \n",
    "# Build vocabulary, and include pretrained GLoVe vectors\n",
    "SRC.build_vocab(dialogue_data,\n",
    "                max_size=MAX_VOCAB_SIZE,\n",
    "                min_freq=MIN_COUNT,\n",
    "                vectors='glove.6B.300d',\n",
    "                unk_init=torch.Tensor.normal_) # Split our dialogue data into training, validation, and test sets\n",
    "train_data, test_data = dialogue_data.split()\n",
    "train_data, valid_data = train_data.split()"
   ]
  },
  {
   "cell_type": "code",
   "execution_count": 17,
   "id": "62adc00f",
   "metadata": {
    "colab": {
     "base_uri": "https://localhost:8080/"
    },
    "id": "62adc00f",
    "outputId": "24207509-6739-4aa0-9665-61e6891dee01"
   },
   "outputs": [
    {
     "name": "stdout",
     "output_type": "stream",
     "text": [
      "Number of training examples: 12693\n",
      "Number of validation examples: 5440\n",
      "Number of testing examples: 7771\n"
     ]
    }
   ],
   "source": [
    "print(f\"Number of training examples: {len(train_data.examples)}\")\n",
    "print(f\"Number of validation examples: {len(valid_data.examples)}\")\n",
    "print(f\"Number of testing examples: {len(test_data.examples)}\")"
   ]
  },
  {
   "cell_type": "code",
   "execution_count": 18,
   "id": "639a0916",
   "metadata": {
    "colab": {
     "base_uri": "https://localhost:8080/"
    },
    "id": "639a0916",
    "outputId": "d0282128-4c21-465f-ae86-ee6e096e9303"
   },
   "outputs": [
    {
     "name": "stdout",
     "output_type": "stream",
     "text": [
      "{'input_sequence': ['.', 'работои', 'своеи', 'доволен', 'он'], 'output_sequence': ['he', 'is', 'pleased', 'with', 'his', 'work', '.']}\n"
     ]
    }
   ],
   "source": [
    "print(vars(train_data.examples[0]))"
   ]
  },
  {
   "cell_type": "code",
   "execution_count": 19,
   "id": "cea6ed80",
   "metadata": {
    "id": "cea6ed80"
   },
   "outputs": [],
   "source": [
    "SRC.build_vocab(train_data, min_freq = 2)\n",
    "TRG.build_vocab(train_data, min_freq = 2)"
   ]
  },
  {
   "cell_type": "code",
   "execution_count": 20,
   "id": "f97b1f2c",
   "metadata": {
    "colab": {
     "base_uri": "https://localhost:8080/"
    },
    "id": "f97b1f2c",
    "outputId": "06ea9793-12c1-445c-bd97-d867fd37cd82"
   },
   "outputs": [
    {
     "name": "stdout",
     "output_type": "stream",
     "text": [
      "Unique tokens in source (de) vocabulary: 3161\n",
      "Unique tokens in target (en) vocabulary: 2016\n"
     ]
    }
   ],
   "source": [
    "print(f\"Unique tokens in source (de) vocabulary: {len(SRC.vocab)}\")\n",
    "print(f\"Unique tokens in target (en) vocabulary: {len(TRG.vocab)}\")"
   ]
  },
  {
   "cell_type": "code",
   "execution_count": 21,
   "id": "8f46b574",
   "metadata": {
    "id": "8f46b574"
   },
   "outputs": [],
   "source": [
    "BATCH_SIZE = 128\n",
    "\n",
    "train_iterator, valid_iterator, test_iterator = BucketIterator.splits(\n",
    "    (train_data, valid_data, test_data), \n",
    "    batch_size = BATCH_SIZE,\n",
    "    sort=False,\n",
    "    device = device)"
   ]
  },
  {
   "cell_type": "code",
   "execution_count": 22,
   "id": "6042adb4",
   "metadata": {
    "id": "6042adb4"
   },
   "outputs": [],
   "source": [
    "class Encoder(nn.Module):\n",
    "    def __init__(self, input_dim, emb_dim, hid_dim, n_layers, dropout):\n",
    "        super().__init__()\n",
    "        \n",
    "        self.hid_dim = hid_dim\n",
    "        self.n_layers = n_layers\n",
    "        \n",
    "        self.embedding = nn.Embedding(input_dim, emb_dim)\n",
    "        \n",
    "        self.rnn = nn.LSTM(emb_dim, hid_dim, n_layers, dropout = dropout)\n",
    "        \n",
    "        self.dropout = nn.Dropout(dropout)\n",
    "        \n",
    "    def forward(self, src):\n",
    "        \n",
    "        #src = [src len, batch size]\n",
    "        \n",
    "        embedded = self.dropout(self.embedding(src))\n",
    "        \n",
    "        #embedded = [src len, batch size, emb dim]\n",
    "        \n",
    "        outputs, (hidden, cell) = self.rnn(embedded)\n",
    "        \n",
    "        #outputs = [src len, batch size, hid dim * n directions]\n",
    "        #hidden = [n layers * n directions, batch size, hid dim]\n",
    "        #cell = [n layers * n directions, batch size, hid dim]\n",
    "        \n",
    "        #outputs are always from the top hidden layer\n",
    "        \n",
    "        return hidden, cell"
   ]
  },
  {
   "cell_type": "code",
   "execution_count": 23,
   "id": "e196d344",
   "metadata": {
    "id": "e196d344"
   },
   "outputs": [],
   "source": [
    "class Decoder(nn.Module):\n",
    "    def __init__(self, output_dim, emb_dim, hid_dim, n_layers, dropout):\n",
    "        super().__init__()\n",
    "        \n",
    "        self.output_dim = output_dim\n",
    "        self.hid_dim = hid_dim\n",
    "        self.n_layers = n_layers\n",
    "        \n",
    "        self.embedding = nn.Embedding(output_dim, emb_dim)\n",
    "        \n",
    "        self.rnn = nn.LSTM(emb_dim, hid_dim, n_layers, dropout = dropout)\n",
    "        \n",
    "        self.fc_out = nn.Linear(hid_dim, output_dim)\n",
    "        \n",
    "        self.dropout = nn.Dropout(dropout)\n",
    "        \n",
    "    def forward(self, input, hidden, cell):\n",
    "        \n",
    "        #input = [batch size]\n",
    "        #hidden = [n layers * n directions, batch size, hid dim]\n",
    "        #cell = [n layers * n directions, batch size, hid dim]\n",
    "        \n",
    "        #n directions in the decoder will both always be 1, therefore:\n",
    "        #hidden = [n layers, batch size, hid dim]\n",
    "        #context = [n layers, batch size, hid dim]\n",
    "        \n",
    "        input = input.unsqueeze(0)\n",
    "        \n",
    "        #input = [1, batch size]\n",
    "        \n",
    "        embedded = self.dropout(self.embedding(input))\n",
    "        \n",
    "        #embedded = [1, batch size, emb dim]\n",
    "                \n",
    "        output, (hidden, cell) = self.rnn(embedded, (hidden, cell))\n",
    "        \n",
    "        #output = [seq len, batch size, hid dim * n directions]\n",
    "        #hidden = [n layers * n directions, batch size, hid dim]\n",
    "        #cell = [n layers * n directions, batch size, hid dim]\n",
    "        \n",
    "        #seq len and n directions will always be 1 in the decoder, therefore:\n",
    "        #output = [1, batch size, hid dim]\n",
    "        #hidden = [n layers, batch size, hid dim]\n",
    "        #cell = [n layers, batch size, hid dim]\n",
    "        \n",
    "        prediction = self.fc_out(output.squeeze(0))\n",
    "        \n",
    "        #prediction = [batch size, output dim]\n",
    "        \n",
    "        return prediction, hidden, cell"
   ]
  },
  {
   "cell_type": "code",
   "execution_count": 24,
   "id": "d20d6006",
   "metadata": {
    "id": "d20d6006"
   },
   "outputs": [],
   "source": [
    "class Seq2Seq(nn.Module):\n",
    "    def __init__(self, encoder, decoder, device):\n",
    "        super().__init__()\n",
    "        \n",
    "        self.encoder = encoder\n",
    "        self.decoder = decoder\n",
    "        self.device = device\n",
    "        \n",
    "        assert encoder.hid_dim == decoder.hid_dim, \\\n",
    "            \"Hidden dimensions of encoder and decoder must be equal!\"\n",
    "        assert encoder.n_layers == decoder.n_layers, \\\n",
    "            \"Encoder and decoder must have equal number of layers!\"\n",
    "        \n",
    "    def forward(self, src, trg, teacher_forcing_ratio = 0.5):\n",
    "        \n",
    "        #src = [src len, batch size]\n",
    "        #trg = [trg len, batch size]\n",
    "        #teacher_forcing_ratio is probability to use teacher forcing\n",
    "        #e.g. if teacher_forcing_ratio is 0.75 we use ground-truth inputs 75% of the time\n",
    "        \n",
    "        batch_size = trg.shape[1]\n",
    "        trg_len = trg.shape[0]\n",
    "        trg_vocab_size = self.decoder.output_dim\n",
    "        \n",
    "        #tensor to store decoder outputs\n",
    "        outputs = torch.zeros(trg_len, batch_size, trg_vocab_size).to(self.device)\n",
    "        \n",
    "        #last hidden state of the encoder is used as the initial hidden state of the decoder\n",
    "        hidden, cell = self.encoder(src)\n",
    "        \n",
    "        #first input to the decoder is the <sos> tokens\n",
    "        input = trg[0,:]\n",
    "        \n",
    "        for t in range(1, trg_len):\n",
    "            \n",
    "            #insert input token embedding, previous hidden and previous cell states\n",
    "            #receive output tensor (predictions) and new hidden and cell states\n",
    "            output, hidden, cell = self.decoder(input, hidden, cell)\n",
    "            \n",
    "            #place predictions in a tensor holding predictions for each token\n",
    "            outputs[t] = output\n",
    "            \n",
    "            #decide if we are going to use teacher forcing or not\n",
    "            teacher_force = random.random() < teacher_forcing_ratio\n",
    "            \n",
    "            #get the highest predicted token from our predictions\n",
    "            top1 = output.argmax(1) \n",
    "            \n",
    "            #if teacher forcing, use actual next token as next input\n",
    "            #if not, use predicted token\n",
    "            input = trg[t] if teacher_force else top1\n",
    "        \n",
    "        return outputs"
   ]
  },
  {
   "cell_type": "code",
   "execution_count": 25,
   "id": "fdbcfd6a",
   "metadata": {
    "id": "fdbcfd6a"
   },
   "outputs": [],
   "source": [
    "INPUT_DIM = len(SRC.vocab)\n",
    "OUTPUT_DIM = len(TRG.vocab)\n",
    "ENC_EMB_DIM = 256\n",
    "DEC_EMB_DIM = 256\n",
    "HID_DIM = 512\n",
    "N_LAYERS = 2\n",
    "ENC_DROPOUT = 0.5\n",
    "DEC_DROPOUT = 0.5\n",
    "\n",
    "enc = Encoder(INPUT_DIM, ENC_EMB_DIM, HID_DIM, N_LAYERS, ENC_DROPOUT)\n",
    "dec = Decoder(OUTPUT_DIM, DEC_EMB_DIM, HID_DIM, N_LAYERS, DEC_DROPOUT)\n",
    "\n",
    "model = Seq2Seq(enc, dec, device).to(device)"
   ]
  },
  {
   "cell_type": "code",
   "execution_count": 26,
   "id": "7c288e8f",
   "metadata": {
    "colab": {
     "base_uri": "https://localhost:8080/"
    },
    "id": "7c288e8f",
    "outputId": "d9292b37-f1d4-4c67-c470-1787962ac5cd"
   },
   "outputs": [
    {
     "data": {
      "text/plain": [
       "Seq2Seq(\n",
       "  (encoder): Encoder(\n",
       "    (embedding): Embedding(3161, 256)\n",
       "    (rnn): LSTM(256, 512, num_layers=2, dropout=0.5)\n",
       "    (dropout): Dropout(p=0.5, inplace=False)\n",
       "  )\n",
       "  (decoder): Decoder(\n",
       "    (embedding): Embedding(2016, 256)\n",
       "    (rnn): LSTM(256, 512, num_layers=2, dropout=0.5)\n",
       "    (fc_out): Linear(in_features=512, out_features=2016, bias=True)\n",
       "    (dropout): Dropout(p=0.5, inplace=False)\n",
       "  )\n",
       ")"
      ]
     },
     "execution_count": 26,
     "metadata": {},
     "output_type": "execute_result"
    }
   ],
   "source": [
    "def init_weights(m):\n",
    "    for name, param in m.named_parameters():\n",
    "        nn.init.uniform_(param.data, -0.08, 0.08)\n",
    "        \n",
    "model.apply(init_weights)"
   ]
  },
  {
   "cell_type": "code",
   "execution_count": 27,
   "id": "4a4939e8",
   "metadata": {
    "colab": {
     "base_uri": "https://localhost:8080/"
    },
    "id": "4a4939e8",
    "outputId": "51dea030-683f-4b05-c847-bf9013692f7e"
   },
   "outputs": [
    {
     "name": "stdout",
     "output_type": "stream",
     "text": [
      "The model has 9,715,936 trainable parameters\n"
     ]
    }
   ],
   "source": [
    "def count_parameters(model):\n",
    "    return sum(p.numel() for p in model.parameters() if p.requires_grad)\n",
    "\n",
    "print(f'The model has {count_parameters(model):,} trainable parameters')"
   ]
  },
  {
   "cell_type": "code",
   "execution_count": 28,
   "id": "36b208c7",
   "metadata": {
    "id": "36b208c7"
   },
   "outputs": [],
   "source": [
    "optimizer = optim.Adam(model.parameters())"
   ]
  },
  {
   "cell_type": "code",
   "execution_count": 29,
   "id": "3680fb0b",
   "metadata": {
    "id": "3680fb0b"
   },
   "outputs": [],
   "source": [
    "TRG_PAD_IDX = TRG.vocab.stoi[TRG.pad_token]\n",
    "\n",
    "criterion = nn.CrossEntropyLoss(ignore_index = TRG_PAD_IDX)"
   ]
  },
  {
   "cell_type": "code",
   "execution_count": 30,
   "id": "3a148070",
   "metadata": {
    "id": "3a148070"
   },
   "outputs": [],
   "source": [
    "def train(model, iterator, optimizer, criterion, clip):\n",
    "    \n",
    "    model.train()\n",
    "    \n",
    "    epoch_loss = 0\n",
    "    \n",
    "    for i, batch in enumerate(iterator):\n",
    "        \n",
    "        src = batch.input_sequence\n",
    "        trg = batch.output_sequence\n",
    "        \n",
    "        optimizer.zero_grad()\n",
    "        \n",
    "        output = model(src, trg)\n",
    "        \n",
    "        #trg = [trg len, batch size]\n",
    "        #output = [trg len, batch size, output dim]\n",
    "        \n",
    "        output_dim = output.shape[-1]\n",
    "        \n",
    "        output = output[1:].view(-1, output_dim)\n",
    "        trg = trg[1:].view(-1)\n",
    "        \n",
    "        #trg = [(trg len - 1) * batch size]\n",
    "        #output = [(trg len - 1) * batch size, output dim]\n",
    "        \n",
    "        loss = criterion(output, trg)\n",
    "        \n",
    "        loss.backward()\n",
    "        \n",
    "        torch.nn.utils.clip_grad_norm_(model.parameters(), clip)\n",
    "        \n",
    "        optimizer.step()\n",
    "        \n",
    "        epoch_loss += loss.item()\n",
    "        \n",
    "    return epoch_loss / len(iterator)"
   ]
  },
  {
   "cell_type": "code",
   "execution_count": 31,
   "id": "9cf2595d",
   "metadata": {
    "id": "9cf2595d"
   },
   "outputs": [],
   "source": [
    "def evaluate(model, iterator, criterion):\n",
    "    \n",
    "    model.eval()\n",
    "    \n",
    "    epoch_loss = 0\n",
    "    \n",
    "    with torch.no_grad():\n",
    "    \n",
    "        for i, batch in enumerate(iterator):\n",
    "\n",
    "            src = batch.input_sequence\n",
    "            trg = batch.output_sequence\n",
    "\n",
    "            output = model(src, trg, 0) #turn off teacher forcing\n",
    "\n",
    "            #trg = [trg len, batch size]\n",
    "            #output = [trg len, batch size, output dim]\n",
    "\n",
    "            output_dim = output.shape[-1]\n",
    "            \n",
    "            output = output[1:].view(-1, output_dim)\n",
    "            trg = trg[1:].view(-1)\n",
    "\n",
    "            #trg = [(trg len - 1) * batch size]\n",
    "            #output = [(trg len - 1) * batch size, output dim]\n",
    "\n",
    "            loss = criterion(output, trg)\n",
    "            \n",
    "            epoch_loss += loss.item()\n",
    "        \n",
    "    return epoch_loss / len(iterator)"
   ]
  },
  {
   "cell_type": "code",
   "execution_count": 32,
   "id": "54983124",
   "metadata": {
    "id": "54983124"
   },
   "outputs": [],
   "source": [
    "def epoch_time(start_time, end_time):\n",
    "    elapsed_time = end_time - start_time\n",
    "    elapsed_mins = int(elapsed_time / 60)\n",
    "    elapsed_secs = int(elapsed_time - (elapsed_mins * 60))\n",
    "    return elapsed_mins, elapsed_secs"
   ]
  },
  {
   "cell_type": "code",
   "execution_count": 33,
   "id": "80b19e4d",
   "metadata": {
    "colab": {
     "base_uri": "https://localhost:8080/"
    },
    "id": "80b19e4d",
    "outputId": "3dcc9f08-bd2a-47b9-eb70-68a9361d9be1"
   },
   "outputs": [
    {
     "name": "stdout",
     "output_type": "stream",
     "text": [
      "Epoch: 01 | Time: 0m 4s\n",
      "\tTrain Loss: 3.767 | Train PPL:  43.248\n",
      "\t Val. Loss: 3.330 |  Val. PPL:  27.941\n",
      "Epoch: 02 | Time: 0m 4s\n",
      "\tTrain Loss: 3.204 | Train PPL:  24.632\n",
      "\t Val. Loss: 3.079 |  Val. PPL:  21.744\n",
      "Epoch: 03 | Time: 0m 4s\n",
      "\tTrain Loss: 2.878 | Train PPL:  17.785\n",
      "\t Val. Loss: 2.862 |  Val. PPL:  17.489\n",
      "Epoch: 04 | Time: 0m 6s\n",
      "\tTrain Loss: 2.661 | Train PPL:  14.310\n",
      "\t Val. Loss: 2.775 |  Val. PPL:  16.041\n",
      "Epoch: 05 | Time: 0m 4s\n",
      "\tTrain Loss: 2.480 | Train PPL:  11.936\n",
      "\t Val. Loss: 2.633 |  Val. PPL:  13.922\n",
      "Epoch: 06 | Time: 0m 4s\n",
      "\tTrain Loss: 2.309 | Train PPL:  10.062\n",
      "\t Val. Loss: 2.483 |  Val. PPL:  11.982\n",
      "Epoch: 07 | Time: 0m 4s\n",
      "\tTrain Loss: 2.161 | Train PPL:   8.676\n",
      "\t Val. Loss: 2.425 |  Val. PPL:  11.303\n",
      "Epoch: 08 | Time: 0m 4s\n",
      "\tTrain Loss: 2.032 | Train PPL:   7.630\n",
      "\t Val. Loss: 2.306 |  Val. PPL:  10.033\n",
      "Epoch: 09 | Time: 0m 4s\n",
      "\tTrain Loss: 1.902 | Train PPL:   6.699\n",
      "\t Val. Loss: 2.262 |  Val. PPL:   9.601\n",
      "Epoch: 10 | Time: 0m 4s\n",
      "\tTrain Loss: 1.803 | Train PPL:   6.069\n",
      "\t Val. Loss: 2.183 |  Val. PPL:   8.869\n",
      "Epoch: 11 | Time: 0m 4s\n",
      "\tTrain Loss: 1.703 | Train PPL:   5.491\n",
      "\t Val. Loss: 2.123 |  Val. PPL:   8.357\n",
      "Epoch: 12 | Time: 0m 4s\n",
      "\tTrain Loss: 1.586 | Train PPL:   4.885\n",
      "\t Val. Loss: 2.063 |  Val. PPL:   7.869\n",
      "Epoch: 13 | Time: 0m 4s\n",
      "\tTrain Loss: 1.511 | Train PPL:   4.530\n",
      "\t Val. Loss: 2.033 |  Val. PPL:   7.635\n",
      "Epoch: 14 | Time: 0m 4s\n",
      "\tTrain Loss: 1.433 | Train PPL:   4.192\n",
      "\t Val. Loss: 2.006 |  Val. PPL:   7.437\n",
      "Epoch: 15 | Time: 0m 4s\n",
      "\tTrain Loss: 1.353 | Train PPL:   3.869\n",
      "\t Val. Loss: 1.947 |  Val. PPL:   7.011\n",
      "Epoch: 16 | Time: 0m 4s\n",
      "\tTrain Loss: 1.255 | Train PPL:   3.509\n",
      "\t Val. Loss: 1.898 |  Val. PPL:   6.670\n",
      "Epoch: 17 | Time: 0m 4s\n",
      "\tTrain Loss: 1.207 | Train PPL:   3.344\n",
      "\t Val. Loss: 1.845 |  Val. PPL:   6.331\n",
      "Epoch: 18 | Time: 0m 4s\n",
      "\tTrain Loss: 1.137 | Train PPL:   3.116\n",
      "\t Val. Loss: 1.844 |  Val. PPL:   6.325\n",
      "Epoch: 19 | Time: 0m 4s\n",
      "\tTrain Loss: 1.068 | Train PPL:   2.908\n",
      "\t Val. Loss: 1.835 |  Val. PPL:   6.264\n",
      "Epoch: 20 | Time: 0m 4s\n",
      "\tTrain Loss: 1.022 | Train PPL:   2.779\n",
      "\t Val. Loss: 1.786 |  Val. PPL:   5.966\n",
      "Epoch: 21 | Time: 0m 4s\n",
      "\tTrain Loss: 0.960 | Train PPL:   2.612\n",
      "\t Val. Loss: 1.776 |  Val. PPL:   5.904\n",
      "Epoch: 22 | Time: 0m 4s\n",
      "\tTrain Loss: 0.910 | Train PPL:   2.484\n",
      "\t Val. Loss: 1.761 |  Val. PPL:   5.821\n",
      "Epoch: 23 | Time: 0m 4s\n",
      "\tTrain Loss: 0.856 | Train PPL:   2.353\n",
      "\t Val. Loss: 1.751 |  Val. PPL:   5.760\n",
      "Epoch: 24 | Time: 0m 4s\n",
      "\tTrain Loss: 0.820 | Train PPL:   2.269\n",
      "\t Val. Loss: 1.736 |  Val. PPL:   5.672\n",
      "Epoch: 25 | Time: 0m 4s\n",
      "\tTrain Loss: 0.753 | Train PPL:   2.123\n",
      "\t Val. Loss: 1.748 |  Val. PPL:   5.745\n",
      "Epoch: 26 | Time: 0m 4s\n",
      "\tTrain Loss: 0.726 | Train PPL:   2.067\n",
      "\t Val. Loss: 1.709 |  Val. PPL:   5.526\n",
      "Epoch: 27 | Time: 0m 4s\n",
      "\tTrain Loss: 0.683 | Train PPL:   1.981\n",
      "\t Val. Loss: 1.724 |  Val. PPL:   5.605\n",
      "Epoch: 28 | Time: 0m 4s\n",
      "\tTrain Loss: 0.644 | Train PPL:   1.904\n",
      "\t Val. Loss: 1.721 |  Val. PPL:   5.589\n",
      "Epoch: 29 | Time: 0m 4s\n",
      "\tTrain Loss: 0.618 | Train PPL:   1.855\n",
      "\t Val. Loss: 1.694 |  Val. PPL:   5.442\n",
      "Epoch: 30 | Time: 0m 4s\n",
      "\tTrain Loss: 0.587 | Train PPL:   1.799\n",
      "\t Val. Loss: 1.714 |  Val. PPL:   5.550\n"
     ]
    }
   ],
   "source": [
    "N_EPOCHS = 30\n",
    "CLIP = 1\n",
    "\n",
    "best_valid_loss = float('inf')\n",
    "\n",
    "for epoch in range(N_EPOCHS):\n",
    "    \n",
    "    start_time = time.time()\n",
    "    \n",
    "    train_loss = train(model, train_iterator, optimizer, criterion, CLIP)\n",
    "    valid_loss = evaluate(model, valid_iterator, criterion)\n",
    "    \n",
    "    end_time = time.time()\n",
    "    \n",
    "    epoch_mins, epoch_secs = epoch_time(start_time, end_time)\n",
    "    \n",
    "    if valid_loss < best_valid_loss:\n",
    "        best_valid_loss = valid_loss\n",
    "        torch.save(model.state_dict(), 'tut1-model.pt')\n",
    "    \n",
    "    print(f'Epoch: {epoch+1:02} | Time: {epoch_mins}m {epoch_secs}s')\n",
    "    print(f'\\tTrain Loss: {train_loss:.3f} | Train PPL: {math.exp(train_loss):7.3f}')\n",
    "    print(f'\\t Val. Loss: {valid_loss:.3f} |  Val. PPL: {math.exp(valid_loss):7.3f}')"
   ]
  },
  {
   "cell_type": "code",
   "execution_count": 34,
   "id": "b2a8fc72",
   "metadata": {
    "colab": {
     "base_uri": "https://localhost:8080/"
    },
    "id": "b2a8fc72",
    "outputId": "bd59e3ac-82da-4335-b2e8-4469fa3a1f90"
   },
   "outputs": [
    {
     "name": "stdout",
     "output_type": "stream",
     "text": [
      "| Test Loss: 1.682 | Test PPL:   5.376 |\n"
     ]
    }
   ],
   "source": [
    "model.load_state_dict(torch.load('tut1-model.pt'))\n",
    "\n",
    "test_loss = evaluate(model, test_iterator, criterion)\n",
    "\n",
    "print(f'| Test Loss: {test_loss:.3f} | Test PPL: {math.exp(test_loss):7.3f} |')"
   ]
  },
  {
   "cell_type": "markdown",
   "id": "ccefae25",
   "metadata": {
    "id": "QFhK3sb-ukR7"
   },
   "source": [
    "0m 44s (- 0m 0s) (5000 100%) 2.7934 - loss при обучении одним слоем GRU\n",
    "\n",
    "0m 49s (- 0m 0s) (5000 100%) 2.7683 - loss при обучении двухслойным GRU в enc и dec"
   ]
  }
 ],
 "metadata": {
  "accelerator": "GPU",
  "colab": {
   "collapsed_sections": [],
   "provenance": []
  },
  "gpuClass": "standard",
  "kernelspec": {
   "display_name": "Python 3 (ipykernel)",
   "language": "python",
   "name": "python3"
  },
  "language_info": {
   "codemirror_mode": {
    "name": "ipython",
    "version": 3
   },
   "file_extension": ".py",
   "mimetype": "text/x-python",
   "name": "python",
   "nbconvert_exporter": "python",
   "pygments_lexer": "ipython3",
   "version": "3.9.7"
  }
 },
 "nbformat": 4,
 "nbformat_minor": 5
}
